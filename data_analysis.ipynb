{
 "cells": [
  {
   "cell_type": "code",
   "execution_count": 2,
   "id": "3a9669ed-722a-4870-8bc3-4ef27ef37093",
   "metadata": {},
   "outputs": [],
   "source": [
    "import json\n",
    "from os import walk\n",
    "import pandas as pd\n",
    "import seaborn as sns\n",
    "from tqdm import tqdm\n",
    "from operator import itemgetter\n",
    "import matplotlib.pyplot as plt\n",
    "\n",
    "import warnings\n",
    "warnings.filterwarnings(\"ignore\")"
   ]
  },
  {
   "cell_type": "markdown",
   "id": "d796bcc0-6f1e-4d49-a607-709c9fcc2c61",
   "metadata": {},
   "source": [
    "# label"
   ]
  },
  {
   "cell_type": "code",
   "execution_count": 3,
   "id": "c30af6f0-2e4d-44e3-8a7a-fa60042a1852",
   "metadata": {},
   "outputs": [],
   "source": [
    "def find_label_list(label_path):\n",
    "    label_list = []\n",
    "    action_list = []\n",
    "    for (dirpath, dirnames, filenames) in walk(label_path):\n",
    "        # print(dirpath)\n",
    "        label_list.append((dirpath, dirnames, filenames))\n",
    "        if filenames == []:\n",
    "            action_list = dirnames\n",
    "            # print(dirnames)\n",
    "    label_list= [[i[0], i[2]] for i in label_list if i[1]==[]]\n",
    "\n",
    "    clip_list = []\n",
    "    for action, clips in label_list:\n",
    "        clip_label = [action + \"\\\\\" + clip for clip in clips]\n",
    "        clip_list.extend(clip_label)\n",
    "\n",
    "    print(\"You have {} actions in {}\".format(len(label_list), label_path))\n",
    "    print(\"You have {} clips in {}\".format(len(clip_list), label_path))\n",
    "\n",
    "    return label_list, clip_list, action_list"
   ]
  },
  {
   "cell_type": "code",
   "execution_count": 4,
   "id": "4bd82812-0c93-490b-8c4e-e813814ae79b",
   "metadata": {},
   "outputs": [
    {
     "name": "stdout",
     "output_type": "stream",
     "text": [
      "You have 13 actions in E:\\k-ompanion_data\\aihub\\Training\\label\n",
      "You have 39537 clips in E:\\k-ompanion_data\\aihub\\Training\\label\n"
     ]
    }
   ],
   "source": [
    "label_path= r\"E:\\k-ompanion_data\\aihub\\Training\\label\"\n",
    "label_list, clip_list, action_list = find_label_list(label_path)"
   ]
  },
  {
   "cell_type": "code",
   "execution_count": 5,
   "id": "7cae47af-bc4a-4367-aa29-ab56d2c81986",
   "metadata": {},
   "outputs": [
    {
     "name": "stdout",
     "output_type": "stream",
     "text": [
      "E:\\k-ompanion_data\\aihub\\Training\\label\\BODYLOWER\\20201022_dog-bodylower-000028.mp4.json\n"
     ]
    }
   ],
   "source": [
    "a_label = clip_list[0]\n",
    "print(a_label)\n",
    "with open(a_label, \"r\", encoding=\"utf8\") as f:\n",
    "    json_object = json.load(f)"
   ]
  },
  {
   "cell_type": "code",
   "execution_count": 6,
   "id": "9044da38-8921-4947-95ec-6396d5f33de3",
   "metadata": {},
   "outputs": [
    {
     "data": {
      "text/plain": [
       "3"
      ]
     },
     "execution_count": 6,
     "metadata": {},
     "output_type": "execute_result"
    }
   ],
   "source": [
    "len(json_object)"
   ]
  },
  {
   "cell_type": "code",
   "execution_count": 7,
   "id": "0621dd2c-5596-432d-bf7a-8e12d999fb81",
   "metadata": {},
   "outputs": [
    {
     "data": {
      "text/plain": [
       "dict_keys(['file_video', 'metadata', 'annotations'])"
      ]
     },
     "execution_count": 7,
     "metadata": {},
     "output_type": "execute_result"
    }
   ],
   "source": [
    "json_object.keys()"
   ]
  },
  {
   "cell_type": "code",
   "execution_count": 8,
   "id": "f128a1f0-c9a1-421b-bc09-cd266426de24",
   "metadata": {},
   "outputs": [],
   "source": [
    "file_video = json_object[\"file_video\"]\n",
    "metadata = json_object[\"metadata\"]\n",
    "annotations = json_object[\"annotations\"]"
   ]
  },
  {
   "cell_type": "code",
   "execution_count": 9,
   "id": "a9a9e136-c6f2-4066-ac45-5b7ee0f224a9",
   "metadata": {},
   "outputs": [
    {
     "name": "stdout",
     "output_type": "stream",
     "text": [
      "20201022/dog-bodylower-000028.mp4\n"
     ]
    }
   ],
   "source": [
    "print(file_video)"
   ]
  },
  {
   "cell_type": "code",
   "execution_count": 10,
   "id": "03102320-e866-4d5d-8f14-5e53aa03d600",
   "metadata": {},
   "outputs": [
    {
     "data": {
      "text/plain": [
       "dict_keys(['seq', 'species', 'action', 'location', 'height', 'width', 'duration', 'animal', 'owner', 'inspect'])"
      ]
     },
     "execution_count": 10,
     "metadata": {},
     "output_type": "execute_result"
    }
   ],
   "source": [
    "metadata.keys()"
   ]
  },
  {
   "cell_type": "code",
   "execution_count": 13,
   "id": "1e4f5d5d-6cec-4a94-a9da-8afda96ac0bb",
   "metadata": {},
   "outputs": [
    {
     "data": {
      "text/plain": [
       "{'seq': 28,\n",
       " 'species': 'DOG',\n",
       " 'action': '엎드리기(몸체를 낮게 유지)',\n",
       " 'location': '실내',\n",
       " 'height': 1280,\n",
       " 'width': 720,\n",
       " 'duration': 18.738005,\n",
       " 'animal': {'breed': '포메라니안', 'gender': 'MALE', 'age': 3, 'neuter': 'Y'},\n",
       " 'owner': {'pain': 'N',\n",
       "  'disease': 'N',\n",
       "  'emotion': '행복/즐거움',\n",
       "  'situation': '먹을것, 장난감이 앞에 있을 때',\n",
       "  'animalCount': 2},\n",
       " 'inspect': {'action': '엎드리기(몸체를 낮게 유지)',\n",
       "  'painDisease': 'N',\n",
       "  'abnormalAction': 'N',\n",
       "  'emotion': '편안/안정'}}"
      ]
     },
     "execution_count": 13,
     "metadata": {},
     "output_type": "execute_result"
    }
   ],
   "source": [
    "metadata"
   ]
  },
  {
   "cell_type": "code",
   "execution_count": 14,
   "id": "5165911c-af5d-476a-9bf7-e50bf2029fac",
   "metadata": {},
   "outputs": [
    {
     "data": {
      "text/plain": [
       "{'pain': 'N',\n",
       " 'disease': 'N',\n",
       " 'emotion': '행복/즐거움',\n",
       " 'situation': '먹을것, 장난감이 앞에 있을 때',\n",
       " 'animalCount': 2}"
      ]
     },
     "execution_count": 14,
     "metadata": {},
     "output_type": "execute_result"
    }
   ],
   "source": [
    "metadata[\"owner\"]"
   ]
  },
  {
   "cell_type": "code",
   "execution_count": 15,
   "id": "53a9e395-bb16-4bf9-939b-83285a3b6f8a",
   "metadata": {},
   "outputs": [
    {
     "data": {
      "text/plain": [
       "{'action': '엎드리기(몸체를 낮게 유지)',\n",
       " 'painDisease': 'N',\n",
       " 'abnormalAction': 'N',\n",
       " 'emotion': '편안/안정'}"
      ]
     },
     "execution_count": 15,
     "metadata": {},
     "output_type": "execute_result"
    }
   ],
   "source": [
    "metadata[\"inspect\"]"
   ]
  },
  {
   "cell_type": "code",
   "execution_count": 16,
   "id": "a7d803aa-1a9d-47ab-a2ce-5d5cd03b6481",
   "metadata": {},
   "outputs": [],
   "source": [
    "emotion = metadata[\"inspect\"][\"emotion\"]\n",
    "# if metadata[\"inspect\"][\"emotion\"] != metadata[\"owner\"][\"emotion\"]\n",
    "action = metadata[\"inspect\"][\"action\"] # or from file_name"
   ]
  },
  {
   "cell_type": "code",
   "execution_count": 17,
   "id": "e8ea7bec-7c6c-431e-8fc3-e023b7871fef",
   "metadata": {},
   "outputs": [
    {
     "name": "stdout",
     "output_type": "stream",
     "text": [
      "편안/안정 엎드리기(몸체를 낮게 유지)\n"
     ]
    }
   ],
   "source": [
    "print(emotion, action)"
   ]
  },
  {
   "cell_type": "code",
   "execution_count": 18,
   "id": "9ea19c44-6e14-40c9-a5a8-ccbb77b15616",
   "metadata": {},
   "outputs": [
    {
     "data": {
      "text/plain": [
       "list"
      ]
     },
     "execution_count": 18,
     "metadata": {},
     "output_type": "execute_result"
    }
   ],
   "source": [
    "type(annotations)"
   ]
  },
  {
   "cell_type": "code",
   "execution_count": 19,
   "id": "ed2c3b18-fbcc-4139-8203-94d008b65881",
   "metadata": {},
   "outputs": [
    {
     "data": {
      "text/plain": [
       "94"
      ]
     },
     "execution_count": 19,
     "metadata": {},
     "output_type": "execute_result"
    }
   ],
   "source": [
    "len(annotations)"
   ]
  },
  {
   "cell_type": "code",
   "execution_count": 20,
   "id": "45c9bb7a-5e5c-4bdc-869c-8f7dd5c4adbe",
   "metadata": {},
   "outputs": [
    {
     "data": {
      "text/plain": [
       "{'frame_number': 0,\n",
       " 'frame_url': 'https://dashboard.datamaker.io/media/task/raw_data/7e7720bf-c933-49c5-b434-e441a54341e9.jpg',\n",
       " 'timestamp': 0,\n",
       " 'keypoints': {'1': {'x': 326, 'y': 583},\n",
       "  '2': {'x': 337, 'y': 498},\n",
       "  '3': {'x': 356, 'y': 614},\n",
       "  '4': {'x': 329, 'y': 618},\n",
       "  '5': None,\n",
       "  '6': {'x': 222, 'y': 675},\n",
       "  '7': {'x': 432, 'y': 680},\n",
       "  '8': {'x': 224, 'y': 772},\n",
       "  '9': {'x': 390, 'y': 775},\n",
       "  '10': None,\n",
       "  '11': None,\n",
       "  '12': None,\n",
       "  '13': None,\n",
       "  '14': None,\n",
       "  '15': None},\n",
       " 'bounding_box': {'x': 145, 'y': 377, 'width': 395, 'height': 475}}"
      ]
     },
     "execution_count": 20,
     "metadata": {},
     "output_type": "execute_result"
    }
   ],
   "source": [
    "annotations[0]"
   ]
  },
  {
   "cell_type": "code",
   "execution_count": 21,
   "id": "e0c8a115-cddd-4a60-9bd4-9a4156e2a58f",
   "metadata": {},
   "outputs": [
    {
     "data": {
      "text/plain": [
       "dict_keys(['frame_number', 'frame_url', 'timestamp', 'keypoints', 'bounding_box'])"
      ]
     },
     "execution_count": 21,
     "metadata": {},
     "output_type": "execute_result"
    }
   ],
   "source": [
    "annotations[0].keys()"
   ]
  },
  {
   "cell_type": "code",
   "execution_count": 22,
   "id": "e46711b3-f151-4f42-910b-59da7d0e25fd",
   "metadata": {},
   "outputs": [],
   "source": [
    "# information needed\n",
    "data_list = []\n",
    "for i in range(len(annotations)):\n",
    "    frame_number = annotations[i][\"frame_number\"]\n",
    "    timestamp = annotations[i][\"timestamp\"]\n",
    "    bounding_box = annotations[i][\"bounding_box\"]\n",
    "    data_list.append((frame_number, timestamp, bounding_box))"
   ]
  },
  {
   "cell_type": "code",
   "execution_count": 23,
   "id": "b8c907fe-73bb-42ae-969e-317574117366",
   "metadata": {},
   "outputs": [
    {
     "data": {
      "text/plain": [
       "[(0, 0, {'x': 145, 'y': 377, 'width': 395, 'height': 475}),\n",
       " (6, 200, {'x': 154, 'y': 383, 'width': 386, 'height': 465}),\n",
       " (12, 400, {'x': 154, 'y': 383, 'width': 386, 'height': 465}),\n",
       " (18, 600, {'x': 154, 'y': 393, 'width': 386, 'height': 460}),\n",
       " (24, 800, {'x': 153, 'y': 401, 'width': 387, 'height': 463}),\n",
       " (30, 1000, {'x': 153, 'y': 401, 'width': 387, 'height': 463}),\n",
       " (36, 1200, {'x': 150, 'y': 399, 'width': 387, 'height': 463}),\n",
       " (42, 1400, {'x': 150, 'y': 399, 'width': 387, 'height': 463}),\n",
       " (48, 1600, {'x': 150, 'y': 399, 'width': 387, 'height': 463}),\n",
       " (54, 1800, {'x': 150, 'y': 399, 'width': 387, 'height': 463})]"
      ]
     },
     "execution_count": 23,
     "metadata": {},
     "output_type": "execute_result"
    }
   ],
   "source": [
    "data_list[:10]"
   ]
  },
  {
   "cell_type": "code",
   "execution_count": 24,
   "id": "0b8d4d92-9556-477e-b1c8-389fbdd96d1d",
   "metadata": {},
   "outputs": [
    {
     "data": {
      "text/plain": [
       "94"
      ]
     },
     "execution_count": 24,
     "metadata": {},
     "output_type": "execute_result"
    }
   ],
   "source": [
    "len(data_list)"
   ]
  },
  {
   "cell_type": "markdown",
   "id": "ef02f7e6-c652-4f68-b012-984931b91fe5",
   "metadata": {},
   "source": [
    "# image"
   ]
  },
  {
   "cell_type": "code",
   "execution_count": 25,
   "id": "1948ff5c-432b-44d1-8f42-455d6eabbc22",
   "metadata": {},
   "outputs": [],
   "source": [
    "def find_image_list(image_path):\n",
    "    image_list = []\n",
    "    clip_list = []\n",
    "    action_list = []\n",
    "    for (dirpath, dirnames, filenames) in walk(image_path):\n",
    "        if dirnames == []:\n",
    "            clip_list.append(dirpath)\n",
    "        elif filenames == [] and dirpath.split(\"\\\\\")[-1]=='image':\n",
    "            action_list.extend(dirnames)\n",
    "    for clip in clip_list:\n",
    "        for (dirpath, dirnames, filenames) in walk(clip):\n",
    "            for image in filenames:\n",
    "                image_list.append(dirpath+\"\\\\\"+image)\n",
    "\n",
    "    print(\"You have {} actions in {}\".format(len(action_list), image_path))\n",
    "    print(\"You have {} clips in {}\".format(len(clip_list), image_path))\n",
    "    print(\"You have {} images in {}\".format(len(image_list), image_path))\n",
    "\n",
    "    return image_list, clip_list, action_list"
   ]
  },
  {
   "cell_type": "code",
   "execution_count": 26,
   "id": "00f94342-bd02-4838-bd2d-f46dbf4dae79",
   "metadata": {
    "tags": []
   },
   "outputs": [
    {
     "name": "stdout",
     "output_type": "stream",
     "text": [
      "You have 13 actions in E:\\k-ompanion_data\\aihub\\Training\\image\n",
      "You have 39537 clips in E:\\k-ompanion_data\\aihub\\Training\\image\n",
      "You have 529591 images in E:\\k-ompanion_data\\aihub\\Training\\image\n"
     ]
    }
   ],
   "source": [
    "image_path= r\"E:\\k-ompanion_data\\aihub\\Training\\image\"\n",
    "image_list, clip_list, action_list = find_image_list(image_path)"
   ]
  },
  {
   "cell_type": "code",
   "execution_count": 27,
   "id": "0767b6f6-e02f-4898-ae9b-2531eb3897ed",
   "metadata": {},
   "outputs": [
    {
     "data": {
      "text/plain": [
       "'E:\\\\k-ompanion_data\\\\aihub\\\\Training\\\\image\\\\BODYLOWER\\\\20201022_dog-bodylower-000028.mp4'"
      ]
     },
     "execution_count": 27,
     "metadata": {},
     "output_type": "execute_result"
    }
   ],
   "source": [
    "clip_list[0]"
   ]
  },
  {
   "cell_type": "code",
   "execution_count": 28,
   "id": "bae19c85-b25b-4b79-925c-1a7540e4bf26",
   "metadata": {},
   "outputs": [
    {
     "data": {
      "text/plain": [
       "'E:\\\\k-ompanion_data\\\\aihub\\\\Training\\\\image\\\\BODYLOWER\\\\20201022_dog-bodylower-000028.mp4\\\\frame_0_timestamp_0.jpg'"
      ]
     },
     "execution_count": 28,
     "metadata": {},
     "output_type": "execute_result"
    }
   ],
   "source": [
    "image_list[0]"
   ]
  },
  {
   "cell_type": "code",
   "execution_count": 29,
   "id": "ed4a1e09-07bc-4111-8f19-b707f32da261",
   "metadata": {},
   "outputs": [
    {
     "data": {
      "text/plain": [
       "['E:',\n",
       " 'k-ompanion_data',\n",
       " 'aihub',\n",
       " 'Training',\n",
       " 'image',\n",
       " 'BODYLOWER',\n",
       " '20201022_dog-bodylower-000028.mp4',\n",
       " 'frame_0_timestamp_0.jpg']"
      ]
     },
     "execution_count": 29,
     "metadata": {},
     "output_type": "execute_result"
    }
   ],
   "source": [
    "image_list[0].split(\"\\\\\")"
   ]
  },
  {
   "cell_type": "code",
   "execution_count": 30,
   "id": "f1a0ec9d-592f-489f-afea-36585b5f3d18",
   "metadata": {},
   "outputs": [
    {
     "name": "stdout",
     "output_type": "stream",
     "text": [
      "14\n"
     ]
    }
   ],
   "source": [
    "frame_list = []\n",
    "for i in image_list:\n",
    "    clip = i.split(\"\\\\\")[-2]\n",
    "    if clip == \"20201022_dog-bodylower-000028.mp4\":\n",
    "        frame_list.append(i)\n",
    "        \n",
    "print(len(frame_list))"
   ]
  },
  {
   "cell_type": "code",
   "execution_count": 31,
   "id": "4ad25b07-d873-47f1-9bf0-5d1d755ed96c",
   "metadata": {},
   "outputs": [
    {
     "name": "stdout",
     "output_type": "stream",
     "text": [
      "0 0\n",
      "102 3400\n",
      "108 3600\n",
      "114 3800\n",
      "120 4000\n",
      "126 4200\n",
      "12 400\n",
      "132 4400\n",
      "138 4600\n",
      "144 4800\n",
      "150 5000\n",
      "156 5200\n",
      "162 5400\n",
      "168 5600\n"
     ]
    }
   ],
   "source": [
    "criteria = []\n",
    "for i in frame_list:\n",
    "    frame_num = i.split(\"\\\\\")[-1].split(\"_\")[1]\n",
    "    timestamp_num = i.split(\"\\\\\")[-1].split(\"_\")[3][:-4]\n",
    "    print(frame_num, timestamp_num)\n",
    "    criteria.append((frame_num, timestamp_num))"
   ]
  },
  {
   "cell_type": "code",
   "execution_count": 32,
   "id": "aaec77d0-96b3-4f37-a378-d7dee1d7036e",
   "metadata": {},
   "outputs": [
    {
     "data": {
      "text/plain": [
       "14"
      ]
     },
     "execution_count": 32,
     "metadata": {},
     "output_type": "execute_result"
    }
   ],
   "source": [
    "len(criteria)"
   ]
  },
  {
   "cell_type": "code",
   "execution_count": 33,
   "id": "38432402-a305-4c11-a808-ee5559868b09",
   "metadata": {},
   "outputs": [
    {
     "name": "stdout",
     "output_type": "stream",
     "text": [
      "0 0\n",
      "12 400\n",
      "102 3400\n",
      "108 3600\n",
      "114 3800\n",
      "120 4000\n",
      "126 4200\n",
      "132 4400\n",
      "138 4600\n",
      "144 4800\n",
      "150 5000\n",
      "156 5200\n",
      "162 5400\n",
      "168 5600\n"
     ]
    }
   ],
   "source": [
    "data_list = []\n",
    "data_list2 = []\n",
    "for i in range(len(annotations)):\n",
    "    frame_number = annotations[i][\"frame_number\"]\n",
    "    timestamp = annotations[i][\"timestamp\"]\n",
    "    for j in range(len(criteria)):\n",
    "        img_frame = int(criteria[j][0])\n",
    "        img_time = int(criteria[j][1])\n",
    "        if img_frame== frame_number and img_time==timestamp:\n",
    "            data_list.append((frame_number, timestamp))\n",
    "            data_list2.append(annotations[i][\"bounding_box\"])\n",
    "                    \n",
    "            print(frame_number, timestamp)"
   ]
  },
  {
   "cell_type": "code",
   "execution_count": 34,
   "id": "f77b6ed2-7fc4-44b0-b45e-480c1ad2623d",
   "metadata": {},
   "outputs": [
    {
     "data": {
      "text/plain": [
       "14"
      ]
     },
     "execution_count": 34,
     "metadata": {},
     "output_type": "execute_result"
    }
   ],
   "source": [
    "len(data_list2)"
   ]
  },
  {
   "cell_type": "code",
   "execution_count": 35,
   "id": "0c6039ee-f994-43d3-9352-1819f376fa63",
   "metadata": {},
   "outputs": [
    {
     "data": {
      "text/plain": [
       "[{'x': 145, 'y': 377, 'width': 395, 'height': 475},\n",
       " {'x': 154, 'y': 383, 'width': 386, 'height': 465},\n",
       " {'x': 137, 'y': 394, 'width': 387, 'height': 461},\n",
       " {'x': 137, 'y': 394, 'width': 387, 'height': 467},\n",
       " {'x': 132, 'y': 394, 'width': 392, 'height': 467},\n",
       " {'x': 132, 'y': 394, 'width': 392, 'height': 467},\n",
       " {'x': 132, 'y': 394, 'width': 392, 'height': 467},\n",
       " {'x': 132, 'y': 394, 'width': 392, 'height': 459},\n",
       " {'x': 132, 'y': 394, 'width': 392, 'height': 459},\n",
       " {'x': 124, 'y': 391, 'width': 392, 'height': 465},\n",
       " {'x': 124, 'y': 391, 'width': 392, 'height': 465},\n",
       " {'x': 124, 'y': 385, 'width': 392, 'height': 471},\n",
       " {'x': 124, 'y': 385, 'width': 392, 'height': 471},\n",
       " {'x': 124, 'y': 385, 'width': 392, 'height': 471}]"
      ]
     },
     "execution_count": 35,
     "metadata": {},
     "output_type": "execute_result"
    }
   ],
   "source": [
    "data_list2"
   ]
  },
  {
   "cell_type": "code",
   "execution_count": 36,
   "id": "af1293d0-929c-4671-b9bc-34f709f1fd44",
   "metadata": {},
   "outputs": [
    {
     "name": "stdout",
     "output_type": "stream",
     "text": [
      "Populating the interactive namespace from numpy and matplotlib\n"
     ]
    },
    {
     "data": {
      "image/png": "[encoded data removed]",
      "text/plain": [
       "<Figure size 432x288 with 1 Axes>"
      ]
     },
     "metadata": {
      "needs_background": "light"
     },
     "output_type": "display_data"
    }
   ],
   "source": [
    "%pylab inline\n",
    "import matplotlib.pyplot as plt\n",
    "import matplotlib.image as mpimg\n",
    "img = mpimg.imread(image_list[100])\n",
    "imgplot = plt.imshow(img)\n",
    "plt.show()"
   ]
  }
 ],
 "metadata": {
  "kernelspec": {
   "display_name": "Python 3",
   "language": "python",
   "name": "python3"
  },
  "language_info": {
   "codemirror_mode": {
    "name": "ipython",
    "version": 3
   },
   "file_extension": ".py",
   "mimetype": "text/x-python",
   "name": "python",
   "nbconvert_exporter": "python",
   "pygments_lexer": "ipython3",
   "version": "3.8.8"
  }
 },
 "nbformat": 4,
 "nbformat_minor": 5
}
